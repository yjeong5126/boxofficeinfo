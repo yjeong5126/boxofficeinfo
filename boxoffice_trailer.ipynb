{
 "cells": [
  {
   "cell_type": "code",
   "execution_count": 1,
   "metadata": {},
   "outputs": [],
   "source": [
    "import pandas as pd\n",
    "import numpy as np"
   ]
  },
  {
   "cell_type": "markdown",
   "metadata": {},
   "source": [
    "# Reading the Data"
   ]
  },
  {
   "cell_type": "code",
   "execution_count": 3,
   "metadata": {},
   "outputs": [],
   "source": [
    "# read the files\n",
    "df_boxoffice = pd.read_csv('boxoffice2017_2019.csv')\n",
    "df_trailer = pd.read_csv('movie_trailer.csv')"
   ]
  },
  {
   "cell_type": "code",
   "execution_count": 4,
   "metadata": {
    "scrolled": true
   },
   "outputs": [
    {
     "data": {
      "text/plain": [
       "(2711, 7)"
      ]
     },
     "execution_count": 4,
     "metadata": {},
     "output_type": "execute_result"
    }
   ],
   "source": [
    "df_boxoffice.shape"
   ]
  },
  {
   "cell_type": "code",
   "execution_count": 5,
   "metadata": {},
   "outputs": [
    {
     "data": {
      "text/html": [
       "<div>\n",
       "<style scoped>\n",
       "    .dataframe tbody tr th:only-of-type {\n",
       "        vertical-align: middle;\n",
       "    }\n",
       "\n",
       "    .dataframe tbody tr th {\n",
       "        vertical-align: top;\n",
       "    }\n",
       "\n",
       "    .dataframe thead th {\n",
       "        text-align: right;\n",
       "    }\n",
       "</style>\n",
       "<table border=\"1\" class=\"dataframe\">\n",
       "  <thead>\n",
       "    <tr style=\"text-align: right;\">\n",
       "      <th></th>\n",
       "      <th>title</th>\n",
       "      <th>domestic_revenue</th>\n",
       "      <th>distributor</th>\n",
       "      <th>budget</th>\n",
       "      <th>MPAA</th>\n",
       "      <th>genres</th>\n",
       "      <th>release_date</th>\n",
       "    </tr>\n",
       "  </thead>\n",
       "  <tbody>\n",
       "    <tr>\n",
       "      <td>0</td>\n",
       "      <td>Avengers: Endgame</td>\n",
       "      <td>$858,373,000</td>\n",
       "      <td>Walt Disney Studios Motion Pictures</td>\n",
       "      <td>$356,000,000</td>\n",
       "      <td>PG-13</td>\n",
       "      <td>Action,Adventure,Drama,Sci-Fi</td>\n",
       "      <td>26-Apr-19</td>\n",
       "    </tr>\n",
       "    <tr>\n",
       "      <td>1</td>\n",
       "      <td>Knives Out</td>\n",
       "      <td>$164,655,243</td>\n",
       "      <td>Lionsgate</td>\n",
       "      <td>$40,000,000</td>\n",
       "      <td>PG-13</td>\n",
       "      <td>Comedy,Crime,Drama,Mystery,Thriller</td>\n",
       "      <td>27-Nov-19</td>\n",
       "    </tr>\n",
       "    <tr>\n",
       "      <td>2</td>\n",
       "      <td>Star Wars: Episode VIII - The Last Jedi</td>\n",
       "      <td>$620,181,382</td>\n",
       "      <td>Walt Disney Studios Motion Pictures</td>\n",
       "      <td>$317,000,000</td>\n",
       "      <td>PG-13</td>\n",
       "      <td>Action,Adventure,Fantasy,Sci-Fi</td>\n",
       "      <td>15-Dec-17</td>\n",
       "    </tr>\n",
       "    <tr>\n",
       "      <td>3</td>\n",
       "      <td>Aquaman</td>\n",
       "      <td>$335,061,807</td>\n",
       "      <td>Warner Bros.</td>\n",
       "      <td>NaN</td>\n",
       "      <td>PG-13</td>\n",
       "      <td>Action,Adventure,Fantasy,Sci-Fi</td>\n",
       "      <td>21-Dec-18</td>\n",
       "    </tr>\n",
       "    <tr>\n",
       "      <td>4</td>\n",
       "      <td>Shazam!</td>\n",
       "      <td>$140,371,656</td>\n",
       "      <td>Warner Bros.</td>\n",
       "      <td>$100,000,000</td>\n",
       "      <td>PG-13</td>\n",
       "      <td>Action,Adventure,Comedy,Fantasy</td>\n",
       "      <td>5-Apr-19</td>\n",
       "    </tr>\n",
       "  </tbody>\n",
       "</table>\n",
       "</div>"
      ],
      "text/plain": [
       "                                     title domestic_revenue  \\\n",
       "0                        Avengers: Endgame    $858,373,000    \n",
       "1                               Knives Out    $164,655,243    \n",
       "2  Star Wars: Episode VIII - The Last Jedi    $620,181,382    \n",
       "3                                  Aquaman    $335,061,807    \n",
       "4                                  Shazam!    $140,371,656    \n",
       "\n",
       "                           distributor         budget   MPAA  \\\n",
       "0  Walt Disney Studios Motion Pictures  $356,000,000   PG-13   \n",
       "1                            Lionsgate   $40,000,000   PG-13   \n",
       "2  Walt Disney Studios Motion Pictures  $317,000,000   PG-13   \n",
       "3                         Warner Bros.            NaN  PG-13   \n",
       "4                         Warner Bros.  $100,000,000   PG-13   \n",
       "\n",
       "                                genres release_date  \n",
       "0        Action,Adventure,Drama,Sci-Fi    26-Apr-19  \n",
       "1  Comedy,Crime,Drama,Mystery,Thriller    27-Nov-19  \n",
       "2      Action,Adventure,Fantasy,Sci-Fi    15-Dec-17  \n",
       "3      Action,Adventure,Fantasy,Sci-Fi    21-Dec-18  \n",
       "4      Action,Adventure,Comedy,Fantasy     5-Apr-19  "
      ]
     },
     "execution_count": 5,
     "metadata": {},
     "output_type": "execute_result"
    }
   ],
   "source": [
    "df_boxoffice.head()"
   ]
  },
  {
   "cell_type": "code",
   "execution_count": 6,
   "metadata": {
    "scrolled": true
   },
   "outputs": [
    {
     "data": {
      "text/html": [
       "<div>\n",
       "<style scoped>\n",
       "    .dataframe tbody tr th:only-of-type {\n",
       "        vertical-align: middle;\n",
       "    }\n",
       "\n",
       "    .dataframe tbody tr th {\n",
       "        vertical-align: top;\n",
       "    }\n",
       "\n",
       "    .dataframe thead th {\n",
       "        text-align: right;\n",
       "    }\n",
       "</style>\n",
       "<table border=\"1\" class=\"dataframe\">\n",
       "  <thead>\n",
       "    <tr style=\"text-align: right;\">\n",
       "      <th></th>\n",
       "      <th>title</th>\n",
       "      <th>trailer</th>\n",
       "      <th>trailer_date</th>\n",
       "      <th>director</th>\n",
       "    </tr>\n",
       "  </thead>\n",
       "  <tbody>\n",
       "    <tr>\n",
       "      <td>0</td>\n",
       "      <td>Brahms: The Boy II</td>\n",
       "      <td>Theatrical Trailer (2020)</td>\n",
       "      <td>February 12, 2020</td>\n",
       "      <td>William Brent Bell</td>\n",
       "    </tr>\n",
       "    <tr>\n",
       "      <td>1</td>\n",
       "      <td>The French Dispatch</td>\n",
       "      <td>Trailer (2020)</td>\n",
       "      <td>February 12, 2020</td>\n",
       "      <td>Wes Anderson</td>\n",
       "    </tr>\n",
       "    <tr>\n",
       "      <td>2</td>\n",
       "      <td>The Green Knight</td>\n",
       "      <td>Teaser Trailer (2020)</td>\n",
       "      <td>February 13, 2020</td>\n",
       "      <td>David Lowery</td>\n",
       "    </tr>\n",
       "    <tr>\n",
       "      <td>3</td>\n",
       "      <td>Antebellum</td>\n",
       "      <td>Teaser Trailer (2020)</td>\n",
       "      <td>November 21, 2019</td>\n",
       "      <td>Gerard Bush</td>\n",
       "    </tr>\n",
       "    <tr>\n",
       "      <td>4</td>\n",
       "      <td>The Secret: Dare to Dream</td>\n",
       "      <td>Trailer (2020)</td>\n",
       "      <td>February 13, 2020</td>\n",
       "      <td>Andy Tennant</td>\n",
       "    </tr>\n",
       "  </tbody>\n",
       "</table>\n",
       "</div>"
      ],
      "text/plain": [
       "                       title                     trailer       trailer_date  \\\n",
       "0         Brahms: The Boy II   Theatrical Trailer (2020)  February 12, 2020   \n",
       "1        The French Dispatch              Trailer (2020)  February 12, 2020   \n",
       "2           The Green Knight       Teaser Trailer (2020)  February 13, 2020   \n",
       "3                 Antebellum       Teaser Trailer (2020)  November 21, 2019   \n",
       "4  The Secret: Dare to Dream              Trailer (2020)  February 13, 2020   \n",
       "\n",
       "             director  \n",
       "0  William Brent Bell  \n",
       "1        Wes Anderson  \n",
       "2        David Lowery  \n",
       "3         Gerard Bush  \n",
       "4        Andy Tennant  "
      ]
     },
     "execution_count": 6,
     "metadata": {},
     "output_type": "execute_result"
    }
   ],
   "source": [
    "df_trailer.head()"
   ]
  },
  {
   "cell_type": "code",
   "execution_count": 7,
   "metadata": {},
   "outputs": [
    {
     "data": {
      "text/plain": [
       "(25047, 4)"
      ]
     },
     "execution_count": 7,
     "metadata": {},
     "output_type": "execute_result"
    }
   ],
   "source": [
    "df_trailer.shape"
   ]
  },
  {
   "cell_type": "markdown",
   "metadata": {},
   "source": [
    "# Combining the Data"
   ]
  },
  {
   "cell_type": "code",
   "execution_count": 8,
   "metadata": {},
   "outputs": [],
   "source": [
    "# remove 'year' inside the text of title name\n",
    "df_trailer['title'] = df_trailer['title'].str.replace('(\\(2016\\))', '')\n",
    "df_trailer['title'] = df_trailer['title'].str.replace('(\\(2017\\))', '')\n",
    "df_trailer['title'] = df_trailer['title'].str.replace('(\\(2018\\))', '')\n",
    "df_trailer['title'] = df_trailer['title'].str.replace('(\\(2019\\))', '')\n",
    "\n",
    "# remove 'year' inside the text of trailer name\n",
    "df_trailer['trailer'] = df_trailer['trailer'].str.replace('(\\(2016\\))', '')\n",
    "df_trailer['trailer'] = df_trailer['trailer'].str.replace('(\\(2017\\))', '')\n",
    "df_trailer['trailer'] = df_trailer['trailer'].str.replace('(\\(2018\\))', '')\n",
    "df_trailer['trailer'] = df_trailer['trailer'].str.replace('(\\(2019\\))', '')\n",
    "\n",
    "# remove white spaces in trailer and title\n",
    "df_trailer['title'] = df_trailer['title'].str.strip()\n",
    "df_trailer['trailer'] = df_trailer['trailer'].str.strip()"
   ]
  },
  {
   "cell_type": "markdown",
   "metadata": {},
   "source": [
    "## The Issue of the Multiple Entries"
   ]
  },
  {
   "cell_type": "markdown",
   "metadata": {},
   "source": [
    "### traileraddict (df_trailer)"
   ]
  },
  {
   "cell_type": "markdown",
   "metadata": {},
   "source": [
    "There are two reasons for the multiple entries. The first reason is that different movies can have the same title. We can use the fact that different movies are produced by different directors. "
   ]
  },
  {
   "cell_type": "code",
   "execution_count": 9,
   "metadata": {},
   "outputs": [
    {
     "data": {
      "text/plain": [
       "['A Quiet Place',\n",
       " 'A Star Is Born',\n",
       " 'Aladdin',\n",
       " 'American Violence',\n",
       " 'Beast',\n",
       " 'Beauty and the Beast',\n",
       " 'Blaze',\n",
       " 'Blood Money',\n",
       " 'Blood Moon',\n",
       " 'Borderline',\n",
       " 'Breathe',\n",
       " 'Burden',\n",
       " 'Cargo',\n",
       " 'Christine',\n",
       " 'City of Joy',\n",
       " 'Danger Close',\n",
       " 'Delirium',\n",
       " 'Disturbing the Peace',\n",
       " 'Eden',\n",
       " 'Escape Room',\n",
       " 'Extinction',\n",
       " 'Fallen',\n",
       " 'Ghostland',\n",
       " 'King Lear',\n",
       " 'Legacy',\n",
       " 'Life',\n",
       " 'Little Women',\n",
       " 'Long Shot',\n",
       " 'Lucky',\n",
       " 'Man Up',\n",
       " 'Paradox',\n",
       " 'Parallel',\n",
       " 'Passage',\n",
       " 'Polaroid',\n",
       " 'Recovery',\n",
       " 'Reset',\n",
       " 'Resistance',\n",
       " 'Rumble',\n",
       " 'Ryde',\n",
       " 'Spiral',\n",
       " 'Split',\n",
       " 'Tag',\n",
       " 'The Basement',\n",
       " 'The Boy',\n",
       " 'The Chamber',\n",
       " 'The Darkness',\n",
       " 'The Guardians',\n",
       " 'The House That Jack Built',\n",
       " 'The Jungle Book',\n",
       " 'The Kindergarten Teacher',\n",
       " 'The King',\n",
       " 'The Last Laugh',\n",
       " 'The Lighthouse',\n",
       " 'The Lion King',\n",
       " 'The Little Mermaid',\n",
       " 'The Lure',\n",
       " 'The Messenger',\n",
       " 'The Monster',\n",
       " 'The Neighbor',\n",
       " 'The Oath',\n",
       " 'The Return',\n",
       " 'The Stranger',\n",
       " 'The Strongest Man',\n",
       " 'The Surface',\n",
       " 'The Tribe',\n",
       " 'The Veil',\n",
       " 'The Wait',\n",
       " 'The Walk',\n",
       " 'The Wave',\n",
       " 'The Windmill',\n",
       " 'The Witness',\n",
       " 'Vice',\n",
       " 'Youth']"
      ]
     },
     "execution_count": 9,
     "metadata": {},
     "output_type": "execute_result"
    }
   ],
   "source": [
    "# find the movie titles which have the same title but are different movies\n",
    "## by using the director's name (find the titles with multiple directors)\n",
    "multiple_directors = []\n",
    "for name, group in df_trailer.groupby('title'):\n",
    "    if len(group['director'].unique()) > 1:\n",
    "        multiple_directors.append(name)\n",
    "multiple_directors"
   ]
  },
  {
   "cell_type": "markdown",
   "metadata": {},
   "source": [
    "The title of the movie is the only column that can identify movies in this analysis. If there are more than one movie under one title, it's not possible to identify movies correctly. Therefore, the movies sharing their title with other movies are excluded in this analysis."
   ]
  },
  {
   "cell_type": "code",
   "execution_count": 10,
   "metadata": {},
   "outputs": [],
   "source": [
    "# remove the titles which have multiple directors\n",
    "for name, group in df_trailer.groupby('title'):\n",
    "    if len(group['director'].unique()) > 1:\n",
    "        df_trailer.drop(df_trailer[df_trailer['title']==name].index, inplace=True)"
   ]
  },
  {
   "cell_type": "markdown",
   "metadata": {},
   "source": [
    "The second reason for the multiple entries in df_trailer is that there are several versions of the movie trailer for each movie. Let's look at the following example for 'Avengers: Endgame' in df_trailer."
   ]
  },
  {
   "cell_type": "code",
   "execution_count": 11,
   "metadata": {},
   "outputs": [
    {
     "data": {
      "text/html": [
       "<div>\n",
       "<style scoped>\n",
       "    .dataframe tbody tr th:only-of-type {\n",
       "        vertical-align: middle;\n",
       "    }\n",
       "\n",
       "    .dataframe tbody tr th {\n",
       "        vertical-align: top;\n",
       "    }\n",
       "\n",
       "    .dataframe thead th {\n",
       "        text-align: right;\n",
       "    }\n",
       "</style>\n",
       "<table border=\"1\" class=\"dataframe\">\n",
       "  <thead>\n",
       "    <tr style=\"text-align: right;\">\n",
       "      <th></th>\n",
       "      <th>title</th>\n",
       "      <th>trailer</th>\n",
       "      <th>trailer_date</th>\n",
       "      <th>director</th>\n",
       "    </tr>\n",
       "  </thead>\n",
       "  <tbody>\n",
       "    <tr>\n",
       "      <td>89</td>\n",
       "      <td>Avengers: Endgame</td>\n",
       "      <td>Blu-Ray Trailer</td>\n",
       "      <td>June 26, 2019</td>\n",
       "      <td>Anthony Russo</td>\n",
       "    </tr>\n",
       "    <tr>\n",
       "      <td>1233</td>\n",
       "      <td>Avengers: Endgame</td>\n",
       "      <td>Trailer</td>\n",
       "      <td>December 07, 2018</td>\n",
       "      <td>Anthony Russo</td>\n",
       "    </tr>\n",
       "    <tr>\n",
       "      <td>1395</td>\n",
       "      <td>Avengers: Endgame</td>\n",
       "      <td>Super Bowl TV Spot</td>\n",
       "      <td>February 04, 2019</td>\n",
       "      <td>Anthony Russo</td>\n",
       "    </tr>\n",
       "    <tr>\n",
       "      <td>1439</td>\n",
       "      <td>Avengers: Endgame</td>\n",
       "      <td>Theatrical Trailer</td>\n",
       "      <td>March 14, 2019</td>\n",
       "      <td>Anthony Russo</td>\n",
       "    </tr>\n",
       "    <tr>\n",
       "      <td>1461</td>\n",
       "      <td>Avengers: Endgame</td>\n",
       "      <td>TV Spot - Honor</td>\n",
       "      <td>March 21, 2019</td>\n",
       "      <td>Anthony Russo</td>\n",
       "    </tr>\n",
       "    <tr>\n",
       "      <td>1463</td>\n",
       "      <td>Avengers: Endgame</td>\n",
       "      <td>Featurette - We Lost</td>\n",
       "      <td>March 26, 2019</td>\n",
       "      <td>Anthony Russo</td>\n",
       "    </tr>\n",
       "    <tr>\n",
       "      <td>1478</td>\n",
       "      <td>Avengers: Endgame</td>\n",
       "      <td>Featurette - IMAX</td>\n",
       "      <td>March 29, 2019</td>\n",
       "      <td>Anthony Russo</td>\n",
       "    </tr>\n",
       "    <tr>\n",
       "      <td>1488</td>\n",
       "      <td>Avengers: Endgame</td>\n",
       "      <td>Special Look Trailer</td>\n",
       "      <td>April 02, 2019</td>\n",
       "      <td>Anthony Russo</td>\n",
       "    </tr>\n",
       "    <tr>\n",
       "      <td>1503</td>\n",
       "      <td>Avengers: Endgame</td>\n",
       "      <td>Featurette - Stakes</td>\n",
       "      <td>April 07, 2019</td>\n",
       "      <td>Anthony Russo</td>\n",
       "    </tr>\n",
       "    <tr>\n",
       "      <td>1522</td>\n",
       "      <td>Avengers: Endgame</td>\n",
       "      <td>End is Near Trailer</td>\n",
       "      <td>April 15, 2019</td>\n",
       "      <td>Anthony Russo</td>\n",
       "    </tr>\n",
       "    <tr>\n",
       "      <td>1523</td>\n",
       "      <td>Avengers: Endgame</td>\n",
       "      <td>TV Spot - No Mistakes, Kids</td>\n",
       "      <td>April 15, 2019</td>\n",
       "      <td>Anthony Russo</td>\n",
       "    </tr>\n",
       "    <tr>\n",
       "      <td>1526</td>\n",
       "      <td>Avengers: Endgame</td>\n",
       "      <td>TV Spot - Mission</td>\n",
       "      <td>April 11, 2019</td>\n",
       "      <td>Anthony Russo</td>\n",
       "    </tr>\n",
       "    <tr>\n",
       "      <td>1527</td>\n",
       "      <td>Avengers: Endgame</td>\n",
       "      <td>Just Like That</td>\n",
       "      <td>April 08, 2019</td>\n",
       "      <td>Anthony Russo</td>\n",
       "    </tr>\n",
       "    <tr>\n",
       "      <td>1531</td>\n",
       "      <td>Avengers: Endgame</td>\n",
       "      <td>To the End Trailer</td>\n",
       "      <td>April 16, 2019</td>\n",
       "      <td>Anthony Russo</td>\n",
       "    </tr>\n",
       "    <tr>\n",
       "      <td>1539</td>\n",
       "      <td>Avengers: Endgame</td>\n",
       "      <td>TV Spot - IMAX Difference</td>\n",
       "      <td>April 19, 2019</td>\n",
       "      <td>Anthony Russo</td>\n",
       "    </tr>\n",
       "  </tbody>\n",
       "</table>\n",
       "</div>"
      ],
      "text/plain": [
       "                  title                      trailer       trailer_date  \\\n",
       "89    Avengers: Endgame              Blu-Ray Trailer      June 26, 2019   \n",
       "1233  Avengers: Endgame                      Trailer  December 07, 2018   \n",
       "1395  Avengers: Endgame           Super Bowl TV Spot  February 04, 2019   \n",
       "1439  Avengers: Endgame           Theatrical Trailer     March 14, 2019   \n",
       "1461  Avengers: Endgame              TV Spot - Honor     March 21, 2019   \n",
       "1463  Avengers: Endgame         Featurette - We Lost     March 26, 2019   \n",
       "1478  Avengers: Endgame            Featurette - IMAX     March 29, 2019   \n",
       "1488  Avengers: Endgame         Special Look Trailer     April 02, 2019   \n",
       "1503  Avengers: Endgame          Featurette - Stakes     April 07, 2019   \n",
       "1522  Avengers: Endgame          End is Near Trailer     April 15, 2019   \n",
       "1523  Avengers: Endgame  TV Spot - No Mistakes, Kids     April 15, 2019   \n",
       "1526  Avengers: Endgame            TV Spot - Mission     April 11, 2019   \n",
       "1527  Avengers: Endgame               Just Like That     April 08, 2019   \n",
       "1531  Avengers: Endgame           To the End Trailer     April 16, 2019   \n",
       "1539  Avengers: Endgame    TV Spot - IMAX Difference     April 19, 2019   \n",
       "\n",
       "           director  \n",
       "89    Anthony Russo  \n",
       "1233  Anthony Russo  \n",
       "1395  Anthony Russo  \n",
       "1439  Anthony Russo  \n",
       "1461  Anthony Russo  \n",
       "1463  Anthony Russo  \n",
       "1478  Anthony Russo  \n",
       "1488  Anthony Russo  \n",
       "1503  Anthony Russo  \n",
       "1522  Anthony Russo  \n",
       "1523  Anthony Russo  \n",
       "1526  Anthony Russo  \n",
       "1527  Anthony Russo  \n",
       "1531  Anthony Russo  \n",
       "1539  Anthony Russo  "
      ]
     },
     "execution_count": 11,
     "metadata": {},
     "output_type": "execute_result"
    }
   ],
   "source": [
    "# show how many different versions of trailers for a movie - Avengers:Endgame\n",
    "df_trailer[df_trailer['title']=='Avengers: Endgame']"
   ]
  },
  {
   "cell_type": "markdown",
   "metadata": {},
   "source": [
    "The trailer named '**Trailer**' is considered the official trailer.Only the observations with the **Trailer** is kept in the data set. If there are multiple **Trailers** for a movie, the earliest released one is selected to calculate the promotion period."
   ]
  },
  {
   "cell_type": "code",
   "execution_count": 12,
   "metadata": {},
   "outputs": [],
   "source": [
    "# Select the earliest released trailer with the name \"Trailer\" \n",
    "df_trailer = df_trailer[df_trailer['trailer']=='Trailer']\n",
    "df_trailer['trailer_date'] = df_trailer['trailer_date'].astype('datetime64')\n",
    "df_trailer = df_trailer.sort_values('trailer_date', ascending=True).drop_duplicates(subset=['title'], keep='first')"
   ]
  },
  {
   "cell_type": "code",
   "execution_count": 13,
   "metadata": {},
   "outputs": [
    {
     "name": "stdout",
     "output_type": "stream",
     "text": [
      "0\n"
     ]
    }
   ],
   "source": [
    "# Check if there are still multiple entries in df_trailer\n",
    "trailer_multiple = []\n",
    "for name, group in df_trailer.groupby('title'):\n",
    "    x,y = group.shape\n",
    "    if x > 1:\n",
    "        trailer_multiple.append(name)\n",
    "print(len(trailer_multiple))"
   ]
  },
  {
   "cell_type": "markdown",
   "metadata": {},
   "source": [
    "### boxofficemojo (df_boxoffice)"
   ]
  },
  {
   "cell_type": "markdown",
   "metadata": {},
   "source": [
    "See how many titles have multiple entries."
   ]
  },
  {
   "cell_type": "code",
   "execution_count": 14,
   "metadata": {},
   "outputs": [
    {
     "name": "stdout",
     "output_type": "stream",
     "text": [
      "223\n"
     ]
    }
   ],
   "source": [
    "boxoffice_multiple = []\n",
    "for name, group in df_boxoffice.groupby('title'):\n",
    "    x,y = group.shape\n",
    "    if x > 1:\n",
    "        boxoffice_multiple.append(name)\n",
    "print(len(boxoffice_multiple))"
   ]
  },
  {
   "cell_type": "markdown",
   "metadata": {},
   "source": [
    "There are several reasons for the multiple entries under the same title in this data set. First, two different movies have the same title. Second, the same movie was re-released on different dates under the same distributors or the different distributors. Third, the same movie was recorded multiple times in the boxofficemojo because the movie played in two different years."
   ]
  },
  {
   "cell_type": "markdown",
   "metadata": {},
   "source": [
    "Considering the first two reasons, check how many titles have multiple distributors under the same title and how many titles have multiple release dates."
   ]
  },
  {
   "cell_type": "code",
   "execution_count": 15,
   "metadata": {},
   "outputs": [
    {
     "name": "stdout",
     "output_type": "stream",
     "text": [
      "21\n"
     ]
    }
   ],
   "source": [
    "# check how many titles have multiple distributors\n",
    "multiple_app1 = []\n",
    "for name, group in df_boxoffice.groupby('title'):\n",
    "    x,y = group.shape\n",
    "    if (x>1) & (len(group['distributor'].unique()) > 1):\n",
    "        multiple_app1.append(name)\n",
    "print(len(multiple_app1))"
   ]
  },
  {
   "cell_type": "code",
   "execution_count": 16,
   "metadata": {},
   "outputs": [
    {
     "name": "stdout",
     "output_type": "stream",
     "text": [
      "35\n"
     ]
    }
   ],
   "source": [
    "# check how many titles have multiple release dates\n",
    "multiple_app2 = []\n",
    "for name, group in df_boxoffice.groupby('title'):\n",
    "    x,y = group.shape\n",
    "    if (x>1) & (len(group['release_date'].unique()) > 1):\n",
    "        multiple_app2.append(name)\n",
    "print(len(multiple_app2))"
   ]
  },
  {
   "cell_type": "markdown",
   "metadata": {},
   "source": [
    "The titles with multiple distributors or release dates should not be used in this analysis because using those entries can cause mismatches in merging two data sets and also increases the inaccuracy of the analysis."
   ]
  },
  {
   "cell_type": "code",
   "execution_count": 17,
   "metadata": {},
   "outputs": [],
   "source": [
    "# remove the titles with multiple entries\n",
    "for name, group in df_boxoffice.groupby('title'):\n",
    "    x,y = group.shape\n",
    "    if (x>1) & (len(group['distributor'].unique()) > 1):\n",
    "        df_boxoffice.drop(df_boxoffice[df_boxoffice['title']==name].index, inplace=True)\n",
    "        \n",
    "for name, group in df_boxoffice.groupby('title'):\n",
    "    x,y = group.shape\n",
    "    if (x>1) & (len(group['release_date'].unique()) > 1):\n",
    "        df_boxoffice.drop(df_boxoffice[df_boxoffice['title']==name].index, inplace=True)"
   ]
  },
  {
   "cell_type": "markdown",
   "metadata": {},
   "source": [
    "The last case is that the same movies are recorded multiple times because some movies release periods overlapped into the next year. For example, if a movie played from Nov 2017 to March 2018, this movie is listed in the page for 2018 as well as the page for 2017. Since I scraped the information about the movies listed in each year, the movies playing in two different years were scraped twice. In this case we can keep just one of the entries."
   ]
  },
  {
   "cell_type": "code",
   "execution_count": 18,
   "metadata": {},
   "outputs": [],
   "source": [
    "# remove duplicates and keep one entry\n",
    "df_boxoffice = df_boxoffice.drop_duplicates(subset=['title'])\n",
    "df_boxoffice.reset_index(drop=True, inplace=True)"
   ]
  },
  {
   "cell_type": "markdown",
   "metadata": {},
   "source": [
    "## Combining data sets"
   ]
  },
  {
   "cell_type": "code",
   "execution_count": 19,
   "metadata": {},
   "outputs": [],
   "source": [
    "df = pd.merge(df_boxoffice, df_trailer, how='inner', on = 'title')"
   ]
  },
  {
   "cell_type": "code",
   "execution_count": 20,
   "metadata": {},
   "outputs": [
    {
     "data": {
      "text/plain": [
       "(1118, 10)"
      ]
     },
     "execution_count": 20,
     "metadata": {},
     "output_type": "execute_result"
    }
   ],
   "source": [
    "df.shape"
   ]
  },
  {
   "cell_type": "markdown",
   "metadata": {},
   "source": [
    "### Another Issue for Combining Data Sets"
   ]
  },
  {
   "cell_type": "markdown",
   "metadata": {},
   "source": [
    "The total number of movies matched is 1118. There is one issue regarding merging these data sets. Since there is no identification number for each movie, titles of the movies are used for combining data sets. However, one significant problem is that some movies have different titles between the two data sets. Look at the example for '**Incredibles 2**'."
   ]
  },
  {
   "cell_type": "code",
   "execution_count": 21,
   "metadata": {},
   "outputs": [
    {
     "data": {
      "text/html": [
       "<div>\n",
       "<style scoped>\n",
       "    .dataframe tbody tr th:only-of-type {\n",
       "        vertical-align: middle;\n",
       "    }\n",
       "\n",
       "    .dataframe tbody tr th {\n",
       "        vertical-align: top;\n",
       "    }\n",
       "\n",
       "    .dataframe thead th {\n",
       "        text-align: right;\n",
       "    }\n",
       "</style>\n",
       "<table border=\"1\" class=\"dataframe\">\n",
       "  <thead>\n",
       "    <tr style=\"text-align: right;\">\n",
       "      <th></th>\n",
       "      <th>title</th>\n",
       "      <th>trailer</th>\n",
       "      <th>trailer_date</th>\n",
       "      <th>director</th>\n",
       "    </tr>\n",
       "  </thead>\n",
       "  <tbody>\n",
       "    <tr>\n",
       "      <td>3431</td>\n",
       "      <td>The Incredibles 2</td>\n",
       "      <td>Trailer</td>\n",
       "      <td>2018-02-15</td>\n",
       "      <td>Brad Bird</td>\n",
       "    </tr>\n",
       "  </tbody>\n",
       "</table>\n",
       "</div>"
      ],
      "text/plain": [
       "                  title  trailer trailer_date   director\n",
       "3431  The Incredibles 2  Trailer   2018-02-15  Brad Bird"
      ]
     },
     "execution_count": 21,
     "metadata": {},
     "output_type": "execute_result"
    }
   ],
   "source": [
    "df_trailer[df_trailer['title'].str.contains('Incredibles')]"
   ]
  },
  {
   "cell_type": "code",
   "execution_count": 22,
   "metadata": {},
   "outputs": [
    {
     "data": {
      "text/html": [
       "<div>\n",
       "<style scoped>\n",
       "    .dataframe tbody tr th:only-of-type {\n",
       "        vertical-align: middle;\n",
       "    }\n",
       "\n",
       "    .dataframe tbody tr th {\n",
       "        vertical-align: top;\n",
       "    }\n",
       "\n",
       "    .dataframe thead th {\n",
       "        text-align: right;\n",
       "    }\n",
       "</style>\n",
       "<table border=\"1\" class=\"dataframe\">\n",
       "  <thead>\n",
       "    <tr style=\"text-align: right;\">\n",
       "      <th></th>\n",
       "      <th>title</th>\n",
       "      <th>domestic_revenue</th>\n",
       "      <th>distributor</th>\n",
       "      <th>budget</th>\n",
       "      <th>MPAA</th>\n",
       "      <th>genres</th>\n",
       "      <th>release_date</th>\n",
       "    </tr>\n",
       "  </thead>\n",
       "  <tbody>\n",
       "    <tr>\n",
       "      <td>2152</td>\n",
       "      <td>Incredibles 2</td>\n",
       "      <td>$608,581,744</td>\n",
       "      <td>Walt Disney Studios Motion Pictures</td>\n",
       "      <td>NaN</td>\n",
       "      <td>PG</td>\n",
       "      <td>Action,Adventure,Animation,Comedy,Family,Sci-Fi</td>\n",
       "      <td>15-Jun-18</td>\n",
       "    </tr>\n",
       "  </tbody>\n",
       "</table>\n",
       "</div>"
      ],
      "text/plain": [
       "              title domestic_revenue                          distributor  \\\n",
       "2152  Incredibles 2    $608,581,744   Walt Disney Studios Motion Pictures   \n",
       "\n",
       "     budget MPAA                                           genres release_date  \n",
       "2152    NaN   PG  Action,Adventure,Animation,Comedy,Family,Sci-Fi    15-Jun-18  "
      ]
     },
     "execution_count": 22,
     "metadata": {},
     "output_type": "execute_result"
    }
   ],
   "source": [
    "df_boxoffice[df_boxoffice['title'].str.contains('Incredibles')]"
   ]
  },
  {
   "cell_type": "markdown",
   "metadata": {},
   "source": [
    "This movie is listed as '**The** Incredibles 2' in trailderaddict.com and 'Incredibles 2' in boxofficemojo.com.In this case, this movie cannot be matched using a regular method. One possible solution for this issue is to use the **fuzz** function in the **fuzzywuzzy** library. "
   ]
  },
  {
   "cell_type": "code",
   "execution_count": 23,
   "metadata": {
    "scrolled": false
   },
   "outputs": [
    {
     "name": "stderr",
     "output_type": "stream",
     "text": [
      "c:\\users\\hannah\\appdata\\local\\programs\\python\\python37-32\\lib\\site-packages\\fuzzywuzzy\\fuzz.py:11: UserWarning: Using slow pure-python SequenceMatcher. Install python-Levenshtein to remove this warning\n",
      "  warnings.warn('Using slow pure-python SequenceMatcher. Install python-Levenshtein to remove this warning')\n"
     ]
    }
   ],
   "source": [
    "from fuzzywuzzy import fuzz"
   ]
  },
  {
   "cell_type": "code",
   "execution_count": 24,
   "metadata": {},
   "outputs": [
    {
     "data": {
      "text/plain": [
       "100"
      ]
     },
     "execution_count": 24,
     "metadata": {},
     "output_type": "execute_result"
    }
   ],
   "source": [
    "# the case when the two names are exactly identical\n",
    "name1 = 'Incredibles 2'\n",
    "name2 = 'Incredibles 2'\n",
    "fuzz.ratio(name1, name2)"
   ]
  },
  {
   "cell_type": "code",
   "execution_count": 25,
   "metadata": {},
   "outputs": [
    {
     "data": {
      "text/plain": [
       "87"
      ]
     },
     "execution_count": 25,
     "metadata": {},
     "output_type": "execute_result"
    }
   ],
   "source": [
    "# the case for Incredible 2\n",
    "name1 = 'Incredibles 2'\n",
    "name2 = 'The Incredibles 2'\n",
    "fuzz.ratio(name1, name2)"
   ]
  },
  {
   "cell_type": "markdown",
   "metadata": {},
   "source": [
    "one big problem for using this method is that there are many different movies with very similar titles in the movie industry. For example, consider these two movies."
   ]
  },
  {
   "cell_type": "code",
   "execution_count": 26,
   "metadata": {},
   "outputs": [
    {
     "data": {
      "text/plain": [
       "89"
      ]
     },
     "execution_count": 26,
     "metadata": {},
     "output_type": "execute_result"
    }
   ],
   "source": [
    "# the movies 'Cold Water' and 'Cold War'\n",
    "name1 = 'Cold Water'\n",
    "name2 = 'Cold War'\n",
    "fuzz.ratio(name1, name2)"
   ]
  },
  {
   "cell_type": "markdown",
   "metadata": {},
   "source": [
    "The distance score between these two different movies is even higher than the case for 'Incredibles 2' and 'The Incredibles 2'. The Fuzz function is a good tool to use for matching entries with different strings. But in this analysis there can be a trade-off between gaining more data and decreasing accuracy. \n",
    "\n",
    "In practice, I matched about 80 more entries with the score over 85. However, considering the possibility that this number includes wrong matches, the negative effect of falling accuracy seems to be greater than the positive effect of gaining more data. \n",
    "\n",
    "For this reason, I decided to Not use this new method and just match the movies using the regular merging method."
   ]
  },
  {
   "cell_type": "markdown",
   "metadata": {},
   "source": [
    "# Missing Values and Converting Formats"
   ]
  },
  {
   "cell_type": "markdown",
   "metadata": {},
   "source": [
    "## Missing Values"
   ]
  },
  {
   "cell_type": "code",
   "execution_count": 27,
   "metadata": {},
   "outputs": [
    {
     "data": {
      "text/html": [
       "<div>\n",
       "<style scoped>\n",
       "    .dataframe tbody tr th:only-of-type {\n",
       "        vertical-align: middle;\n",
       "    }\n",
       "\n",
       "    .dataframe tbody tr th {\n",
       "        vertical-align: top;\n",
       "    }\n",
       "\n",
       "    .dataframe thead th {\n",
       "        text-align: right;\n",
       "    }\n",
       "</style>\n",
       "<table border=\"1\" class=\"dataframe\">\n",
       "  <thead>\n",
       "    <tr style=\"text-align: right;\">\n",
       "      <th></th>\n",
       "      <th>missing_values</th>\n",
       "    </tr>\n",
       "  </thead>\n",
       "  <tbody>\n",
       "    <tr>\n",
       "      <td>title</td>\n",
       "      <td>0</td>\n",
       "    </tr>\n",
       "    <tr>\n",
       "      <td>domestic_revenue</td>\n",
       "      <td>0</td>\n",
       "    </tr>\n",
       "    <tr>\n",
       "      <td>distributor</td>\n",
       "      <td>0</td>\n",
       "    </tr>\n",
       "    <tr>\n",
       "      <td>budget</td>\n",
       "      <td>857</td>\n",
       "    </tr>\n",
       "    <tr>\n",
       "      <td>MPAA</td>\n",
       "      <td>369</td>\n",
       "    </tr>\n",
       "    <tr>\n",
       "      <td>genres</td>\n",
       "      <td>0</td>\n",
       "    </tr>\n",
       "    <tr>\n",
       "      <td>release_date</td>\n",
       "      <td>77</td>\n",
       "    </tr>\n",
       "    <tr>\n",
       "      <td>trailer</td>\n",
       "      <td>0</td>\n",
       "    </tr>\n",
       "    <tr>\n",
       "      <td>trailer_date</td>\n",
       "      <td>0</td>\n",
       "    </tr>\n",
       "    <tr>\n",
       "      <td>director</td>\n",
       "      <td>0</td>\n",
       "    </tr>\n",
       "  </tbody>\n",
       "</table>\n",
       "</div>"
      ],
      "text/plain": [
       "                  missing_values\n",
       "title                          0\n",
       "domestic_revenue               0\n",
       "distributor                    0\n",
       "budget                       857\n",
       "MPAA                         369\n",
       "genres                         0\n",
       "release_date                  77\n",
       "trailer                        0\n",
       "trailer_date                   0\n",
       "director                       0"
      ]
     },
     "execution_count": 27,
     "metadata": {},
     "output_type": "execute_result"
    }
   ],
   "source": [
    "missing = df.isnull().sum().to_frame()\n",
    "missing.rename(columns={0:'missing_values'}, inplace=True)\n",
    "missing"
   ]
  },
  {
   "cell_type": "markdown",
   "metadata": {},
   "source": [
    "**budget, MPAA, release_date** have missing values."
   ]
  },
  {
   "cell_type": "markdown",
   "metadata": {},
   "source": [
    "**budget and MPAA**: There are so many missing values in budget and MPAA. Because the majority of the observation are missing values for these features, I will not replace missing values for any other values.\n"
   ]
  },
  {
   "cell_type": "markdown",
   "metadata": {},
   "source": [
    "**release_date** is one of our main interest features. Therefore, we will drop rows with missing values in **release_date** because it's not possible to calculate the promotion period without **release_date**"
   ]
  },
  {
   "cell_type": "code",
   "execution_count": 28,
   "metadata": {},
   "outputs": [],
   "source": [
    "df.dropna(subset=['release_date'], axis=0, inplace=True)"
   ]
  },
  {
   "cell_type": "code",
   "execution_count": 29,
   "metadata": {},
   "outputs": [
    {
     "data": {
      "text/plain": [
       "(1041, 10)"
      ]
     },
     "execution_count": 29,
     "metadata": {},
     "output_type": "execute_result"
    }
   ],
   "source": [
    "df.shape"
   ]
  },
  {
   "cell_type": "markdown",
   "metadata": {},
   "source": [
    "## Converting Format"
   ]
  },
  {
   "cell_type": "code",
   "execution_count": 30,
   "metadata": {
    "scrolled": true
   },
   "outputs": [
    {
     "data": {
      "text/plain": [
       "title                       object\n",
       "domestic_revenue            object\n",
       "distributor                 object\n",
       "budget                      object\n",
       "MPAA                        object\n",
       "genres                      object\n",
       "release_date                object\n",
       "trailer                     object\n",
       "trailer_date        datetime64[ns]\n",
       "director                    object\n",
       "dtype: object"
      ]
     },
     "execution_count": 30,
     "metadata": {},
     "output_type": "execute_result"
    }
   ],
   "source": [
    "df.dtypes"
   ]
  },
  {
   "cell_type": "markdown",
   "metadata": {},
   "source": [
    "#### budget"
   ]
  },
  {
   "cell_type": "code",
   "execution_count": 31,
   "metadata": {},
   "outputs": [],
   "source": [
    "df['budget'] = df['budget'].str.replace(',','')\n",
    "df['budget'] = df['budget'].str.replace('$','')\n",
    "df['budget'] = df['budget'].astype(float)"
   ]
  },
  {
   "cell_type": "markdown",
   "metadata": {},
   "source": [
    "# Promotion Period"
   ]
  },
  {
   "cell_type": "code",
   "execution_count": 32,
   "metadata": {},
   "outputs": [],
   "source": [
    "# create the feature for Promotion Period. Name it 'promotion_days'\n",
    "df['release_date'] = df['release_date'].astype('datetime64')\n",
    "df['promotion_days'] = df['release_date']-df['trailer_date']\n",
    "df['promotion_days'] = df['promotion_days'].dt.days.astype(int)"
   ]
  },
  {
   "cell_type": "code",
   "execution_count": 33,
   "metadata": {},
   "outputs": [
    {
     "data": {
      "text/plain": [
       "count    1041.000000\n",
       "mean      108.304515\n",
       "std       138.840752\n",
       "min      -411.000000\n",
       "25%        37.000000\n",
       "50%        77.000000\n",
       "75%       140.000000\n",
       "max      1359.000000\n",
       "Name: promotion_days, dtype: float64"
      ]
     },
     "execution_count": 33,
     "metadata": {},
     "output_type": "execute_result"
    }
   ],
   "source": [
    "df['promotion_days'].describe()"
   ]
  },
  {
   "cell_type": "markdown",
   "metadata": {},
   "source": [
    "The min value of the promotion_days is -411 days and the max value is 1359 days. \n",
    "\n",
    "The cases for negative values in the promotion period are due to the movies being re-released or produced in foreign countries and released in the US later. The negative promotion period is not realistic at all. Therefore, these entries with negative values in promotion_days will be dropped from the data set.\n",
    "\n",
    "When it comes to entries with a much larger value in promotion_days, there are a couple reasons for these cases. In some of these cases, there are movies that were re-released or there were different movies that matched due to having the same titles even though the titles do not have multiple entries. Or some movies might release their first trailers more than a year before the movies are released for some reasons. \n",
    "\n",
    "No matter what the reasons for the huge values are, these cases can be considered outliers. Therefore, I will drop the entries with more than 365 days ofpromotion_days as well."
   ]
  },
  {
   "cell_type": "code",
   "execution_count": 34,
   "metadata": {},
   "outputs": [],
   "source": [
    "# remove outliers\n",
    "df = df[(df['promotion_days'] > 0) & (df['promotion_days'] < 365)]"
   ]
  },
  {
   "cell_type": "code",
   "execution_count": 35,
   "metadata": {},
   "outputs": [
    {
     "data": {
      "text/plain": [
       "(947, 11)"
      ]
     },
     "execution_count": 35,
     "metadata": {},
     "output_type": "execute_result"
    }
   ],
   "source": [
    "df.shape"
   ]
  },
  {
   "cell_type": "code",
   "execution_count": 36,
   "metadata": {},
   "outputs": [
    {
     "data": {
      "text/plain": [
       "Text(0, 0.5, 'Number of Movies')"
      ]
     },
     "execution_count": 36,
     "metadata": {},
     "output_type": "execute_result"
    }
   ],
   "source": [
    "import matplotlib.pyplot as plt\n",
    "import seaborn as sns\n",
    "\n",
    "# Distribution of Promotion Period \n",
    "plt.figure(figsize=(12,6))\n",
    "sns.set_style('darkgrid')\n",
    "sns.distplot(df['promotion_days'],hist=True, kde=False, bins=30, color ='blue', hist_kws={'edgecolor':'black'})\n",
    "\n",
    "plt.xlabel('Promotion Period(Days)',size=15)\n",
    "plt.ylabel('Number of Movies', size=15)"
   ]
  },
  {
   "cell_type": "markdown",
   "metadata": {},
   "source": [
    "### Cleaning Unnecessary Features"
   ]
  },
  {
   "cell_type": "code",
   "execution_count": 37,
   "metadata": {},
   "outputs": [],
   "source": [
    "df.drop(['domestic_revenue', 'trailer', 'director'], axis=1, inplace=True)"
   ]
  },
  {
   "cell_type": "code",
   "execution_count": 38,
   "metadata": {},
   "outputs": [
    {
     "data": {
      "text/plain": [
       "Index(['title', 'distributor', 'budget', 'MPAA', 'genres', 'release_date',\n",
       "       'trailer_date', 'promotion_days'],\n",
       "      dtype='object')"
      ]
     },
     "execution_count": 38,
     "metadata": {},
     "output_type": "execute_result"
    }
   ],
   "source": [
    "df.columns"
   ]
  },
  {
   "cell_type": "code",
   "execution_count": 39,
   "metadata": {},
   "outputs": [
    {
     "data": {
      "text/plain": [
       "(947, 8)"
      ]
     },
     "execution_count": 39,
     "metadata": {},
     "output_type": "execute_result"
    }
   ],
   "source": [
    "df.shape"
   ]
  },
  {
   "cell_type": "markdown",
   "metadata": {},
   "source": [
    "# Factors Affecting Promotion Period"
   ]
  },
  {
   "cell_type": "markdown",
   "metadata": {},
   "source": [
    "## Budget"
   ]
  },
  {
   "cell_type": "code",
   "execution_count": 40,
   "metadata": {},
   "outputs": [],
   "source": [
    "#combining sony pictures releaseing and classics\n",
    "for i in df.index:\n",
    "    if (df.loc[i,'distributor'] == 'Sony Pictures Releasing')|(df.loc[i,'distributor'] == 'Sony Pictures Classics'):\n",
    "        df.loc[i,'distributor'] = 'Sony Pictures'"
   ]
  },
  {
   "cell_type": "code",
   "execution_count": 41,
   "metadata": {},
   "outputs": [
    {
     "data": {
      "text/plain": [
       "(241, 8)"
      ]
     },
     "execution_count": 41,
     "metadata": {},
     "output_type": "execute_result"
    }
   ],
   "source": [
    "# Select entries with non-missing values in budget\n",
    "df_budget = df[df['budget'].notnull()]\n",
    "df_budget.shape"
   ]
  },
  {
   "cell_type": "code",
   "execution_count": 42,
   "metadata": {},
   "outputs": [
    {
     "name": "stderr",
     "output_type": "stream",
     "text": [
      "c:\\users\\hannah\\appdata\\local\\programs\\python\\python37-32\\lib\\site-packages\\ipykernel_launcher.py:4: SettingWithCopyWarning: \n",
      "A value is trying to be set on a copy of a slice from a DataFrame.\n",
      "Try using .loc[row_indexer,col_indexer] = value instead\n",
      "\n",
      "See the caveats in the documentation: http://pandas.pydata.org/pandas-docs/stable/user_guide/indexing.html#returning-a-view-versus-a-copy\n",
      "  after removing the cwd from sys.path.\n",
      "c:\\users\\hannah\\appdata\\local\\programs\\python\\python37-32\\lib\\site-packages\\pandas\\core\\indexing.py:494: SettingWithCopyWarning: \n",
      "A value is trying to be set on a copy of a slice from a DataFrame.\n",
      "Try using .loc[row_indexer,col_indexer] = value instead\n",
      "\n",
      "See the caveats in the documentation: http://pandas.pydata.org/pandas-docs/stable/user_guide/indexing.html#returning-a-view-versus-a-copy\n",
      "  self.obj[item] = s\n"
     ]
    }
   ],
   "source": [
    "# Classify the data into eight groups: \n",
    "## Walt Diseney, Warner Bros, Sony Pictures, Universal Pictures, 21th Century Fox, \n",
    "## Paramount Pictures, Liongate, and the rest of the distributors\n",
    "df_budget['distributor2'] = None\n",
    "\n",
    "for i in df_budget.index:\n",
    "    if (df_budget.loc[i,'distributor'] == 'Walt Disney Studios Motion Pictures')|(df_budget.loc[i,'distributor'] == 'Warner Bros.')|(df_budget.loc[i,'distributor'] == 'Sony Pictures')|(df_budget.loc[i,'distributor'] == 'Universal Pictures')|(df_budget.loc[i,'distributor'] == 'Twentieth Century Fox')|(df_budget.loc[i,'distributor'] == 'Paramount Pictures')|(df_budget.loc[i,'distributor'] == 'Lionsgate'):\n",
    "        df_budget.loc[i,'distributor2'] = df_budget.loc[i,'distributor']\n",
    "    else:\n",
    "        df_budget.loc[i,'distributor2'] = 'else'"
   ]
  },
  {
   "cell_type": "code",
   "execution_count": 43,
   "metadata": {},
   "outputs": [
    {
     "data": {
      "text/plain": [
       "<matplotlib.legend.Legend at 0xf42c6f0>"
      ]
     },
     "execution_count": 43,
     "metadata": {},
     "output_type": "execute_result"
    },
    {
     "data": {
      "image/png": "[encoded data removed]",
      "text/plain": [
       "<Figure size 720x432 with 1 Axes>"
      ]
     },
     "metadata": {
      "needs_background": "light"
     },
     "output_type": "display_data"
    }
   ],
   "source": [
    "# Scatter Plots\n",
    "dist_order=['Walt Disney Studios Motion Pictures','Warner Bros.','Sony Pictures'\n",
    "           ,'Universal Pictures','Twentieth Century Fox','Paramount Pictures',\n",
    "           'Lionsgate','else']\n",
    "width = 10\n",
    "height = 6\n",
    "plt.figure(figsize=(width, height))\n",
    "\n",
    "sns.scatterplot('budget', 'promotion_days', hue='distributor2', hue_order=dist_order, size='distributor2', size_order=dist_order, sizes=(20,90), data=df_budget)\n",
    "plt.legend(loc='upper right', ncol=1)"
   ]
  },
  {
   "cell_type": "markdown",
   "metadata": {},
   "source": [
    "The positive correlation is seen slightly in the plot. \n",
    "\n",
    "The correlation coefficient is as follows:"
   ]
  },
  {
   "cell_type": "code",
   "execution_count": 44,
   "metadata": {},
   "outputs": [
    {
     "name": "stdout",
     "output_type": "stream",
     "text": [
      "Correlation Coefficient: 0.29353316461567114 p-value: 3.5574707639001662e-06\n"
     ]
    }
   ],
   "source": [
    "# Correlation Coefficient\n",
    "from scipy import stats\n",
    "\n",
    "coef,p_val = stats.pearsonr(df_budget['budget'], df_budget['promotion_days'])\n",
    "print('Correlation Coefficient:', coef, 'p-value:', p_val)"
   ]
  },
  {
   "cell_type": "markdown",
   "metadata": {},
   "source": [
    "Let's draw the scatter plots and calculate the correlation coefficients for each distributor."
   ]
  },
  {
   "cell_type": "code",
   "execution_count": 45,
   "metadata": {},
   "outputs": [],
   "source": [
    "major_dist=['Walt Disney Studios Motion Pictures','Warner Bros.','Sony Pictures','Universal Pictures','Twentieth Century Fox','Paramount Pictures','Lionsgate']\n",
    "\n",
    "df_walt = df_budget[df_budget['distributor']=='Walt Disney Studios Motion Pictures']\n",
    "df_warner = df_budget[df_budget['distributor']=='Warner Bros.']\n",
    "df_sony = df_budget[df_budget['distributor']=='Sony Pictures']\n",
    "df_universal = df_budget[df_budget['distributor']=='Universal Pictures']\n",
    "df_20th = df_budget[df_budget['distributor']=='Twentieth Century Fox']\n",
    "df_para = df_budget[df_budget['distributor']=='Paramount Pictures']\n",
    "df_lion = df_budget[df_budget['distributor']=='Lionsgate']\n",
    "df_else = df_budget[~df_budget['distributor'].isin(major_dist)]"
   ]
  },
  {
   "cell_type": "code",
   "execution_count": 46,
   "metadata": {},
   "outputs": [
    {
     "data": {
      "text/plain": [
       "Text(1028.5163043478262, 0.5, '')"
      ]
     },
     "execution_count": 46,
     "metadata": {},
     "output_type": "execute_result"
    },
    {
     "data": {
      "image/png": "[encoded data removed]",
      "text/plain": [
       "<Figure size 1440x576 with 8 Axes>"
      ]
     },
     "metadata": {
      "needs_background": "light"
     },
     "output_type": "display_data"
    }
   ],
   "source": [
    "f,axs=plt.subplots(2,4, figsize=(20,8))\n",
    "f.tight_layout()\n",
    "f.subplots_adjust(hspace=.3)\n",
    "\n",
    "sns.regplot('budget', 'promotion_days', data=df_walt, ax=axs[0,0])\n",
    "axs[0,0].set_title('Walt Disney Studios Motion Pictures',fontsize=15)\n",
    "axs[0,0].set_xlabel('')\n",
    "axs[0,0].set_ylabel('Promotion Days',fontsize=15)\n",
    "\n",
    "sns.regplot('budget', 'promotion_days', data=df_warner, ax=axs[0,1])\n",
    "axs[0,1].set_title('Warner Bros.',fontsize=15)\n",
    "axs[0,1].set_xlabel('')\n",
    "axs[0,1].set_ylabel('')\n",
    "\n",
    "sns.regplot('budget', 'promotion_days', data=df_sony, ax=axs[0,2])\n",
    "axs[0,2].set_title('Sony Pictures',fontsize=15)\n",
    "axs[0,2].set_xlabel('')\n",
    "axs[0,2].set_ylabel('')\n",
    "\n",
    "sns.regplot('budget', 'promotion_days', data=df_universal, ax=axs[0,3])\n",
    "axs[0,3].set_title('Universal Pictures',fontsize=15)\n",
    "axs[0,3].set_xlabel('')\n",
    "axs[0,3].set_ylabel('')\n",
    "\n",
    "sns.regplot('budget', 'promotion_days', data=df_20th, ax=axs[1,0])\n",
    "axs[1,0].set_title('Twentieth Century Fox',fontsize=15)\n",
    "axs[1,0].set_xlabel('Budget',fontsize=15)\n",
    "axs[1,0].set_ylabel('Promotion Days',fontsize=15)\n",
    "\n",
    "sns.regplot('budget', 'promotion_days', data=df_para, ax=axs[1,1])\n",
    "axs[1,1].set_title('Paramount Pictures',fontsize=15)\n",
    "axs[1,1].set_xlabel('Budget',fontsize=15)\n",
    "axs[1,1].set_ylabel('')\n",
    "\n",
    "sns.regplot('budget', 'promotion_days', data=df_lion, ax=axs[1,2])\n",
    "axs[1,2].set_title('Lionsgate',fontsize=15)\n",
    "axs[1,2].set_xlabel('Budget',fontsize=15)\n",
    "axs[1,2].set_ylabel('')\n",
    "\n",
    "sns.regplot('budget', 'promotion_days', data=df_else, ax=axs[1,3])\n",
    "axs[1,3].set_title('Else',fontsize=15)\n",
    "axs[1,3].set_xlabel('Budget',fontsize=15)\n",
    "axs[1,3].set_ylabel('')"
   ]
  },
  {
   "cell_type": "code",
   "execution_count": 47,
   "metadata": {},
   "outputs": [
    {
     "data": {
      "text/html": [
       "<div>\n",
       "<style scoped>\n",
       "    .dataframe tbody tr th:only-of-type {\n",
       "        vertical-align: middle;\n",
       "    }\n",
       "\n",
       "    .dataframe tbody tr th {\n",
       "        vertical-align: top;\n",
       "    }\n",
       "\n",
       "    .dataframe thead th {\n",
       "        text-align: right;\n",
       "    }\n",
       "</style>\n",
       "<table border=\"1\" class=\"dataframe\">\n",
       "  <thead>\n",
       "    <tr style=\"text-align: right;\">\n",
       "      <th></th>\n",
       "      <th>Distributor</th>\n",
       "      <th>Corr Coef</th>\n",
       "      <th>P-value</th>\n",
       "    </tr>\n",
       "  </thead>\n",
       "  <tbody>\n",
       "    <tr>\n",
       "      <td>0</td>\n",
       "      <td>Walt Disney</td>\n",
       "      <td>0.0554667</td>\n",
       "      <td>0.871324</td>\n",
       "    </tr>\n",
       "    <tr>\n",
       "      <td>1</td>\n",
       "      <td>Warner Bros.</td>\n",
       "      <td>0.582318</td>\n",
       "      <td>0.000302591</td>\n",
       "    </tr>\n",
       "    <tr>\n",
       "      <td>2</td>\n",
       "      <td>Sony Pictures</td>\n",
       "      <td>0.507619</td>\n",
       "      <td>0.00811652</td>\n",
       "    </tr>\n",
       "    <tr>\n",
       "      <td>3</td>\n",
       "      <td>Universal Pictures</td>\n",
       "      <td>0.472027</td>\n",
       "      <td>0.00241481</td>\n",
       "    </tr>\n",
       "    <tr>\n",
       "      <td>4</td>\n",
       "      <td>Twentieth Century Fox</td>\n",
       "      <td>0.509443</td>\n",
       "      <td>0.00664368</td>\n",
       "    </tr>\n",
       "    <tr>\n",
       "      <td>5</td>\n",
       "      <td>Paramount Pictures</td>\n",
       "      <td>0.307583</td>\n",
       "      <td>0.118587</td>\n",
       "    </tr>\n",
       "    <tr>\n",
       "      <td>6</td>\n",
       "      <td>Lionsgate</td>\n",
       "      <td>0.339473</td>\n",
       "      <td>0.155053</td>\n",
       "    </tr>\n",
       "    <tr>\n",
       "      <td>7</td>\n",
       "      <td>Else</td>\n",
       "      <td>0.0874983</td>\n",
       "      <td>0.513682</td>\n",
       "    </tr>\n",
       "  </tbody>\n",
       "</table>\n",
       "</div>"
      ],
      "text/plain": [
       "             Distributor  Corr Coef      P-value\n",
       "0            Walt Disney  0.0554667     0.871324\n",
       "1           Warner Bros.   0.582318  0.000302591\n",
       "2          Sony Pictures   0.507619   0.00811652\n",
       "3     Universal Pictures   0.472027   0.00241481\n",
       "4  Twentieth Century Fox   0.509443   0.00664368\n",
       "5     Paramount Pictures   0.307583     0.118587\n",
       "6              Lionsgate   0.339473     0.155053\n",
       "7                   Else  0.0874983     0.513682"
      ]
     },
     "execution_count": 47,
     "metadata": {},
     "output_type": "execute_result"
    }
   ],
   "source": [
    "dist_dict = {'Walt Disney':df_walt, 'Warner Bros.':df_warner,'Sony Pictures':df_sony,\n",
    "             'Universal Pictures':df_universal, 'Twentieth Century Fox':df_20th,'Paramount Pictures':df_para,\n",
    "             'Lionsgate':df_lion,'Else':df_else}\n",
    "\n",
    "df_corr = pd.DataFrame(columns=['Distributor','Corr Coef','P-value'])\n",
    "i = 0\n",
    "for key,value in dist_dict.items():\n",
    "    coef, p_val = stats.pearsonr(value['budget'],value['promotion_days'])\n",
    "    df_corr.loc[i,'Distributor'] = key\n",
    "    df_corr.loc[i,'Corr Coef'] = coef\n",
    "    df_corr.loc[i,'P-value'] = p_val\n",
    "    i += 1\n",
    "df_corr"
   ]
  },
  {
   "cell_type": "markdown",
   "metadata": {},
   "source": [
    "## Distributors"
   ]
  },
  {
   "cell_type": "code",
   "execution_count": 48,
   "metadata": {},
   "outputs": [
    {
     "data": {
      "text/plain": [
       "Sony Pictures                          62\n",
       "IFC Films                              58\n",
       "Warner Bros.                           53\n",
       "Magnolia Pictures                      44\n",
       "Universal Pictures                     43\n",
       "Lionsgate                              38\n",
       "Well Go USA Entertainment              32\n",
       "Twentieth Century Fox                  32\n",
       "Paramount Pictures                     31\n",
       "Walt Disney Studios Motion Pictures    23\n",
       "A24                                    22\n",
       "The Orchard                            21\n",
       "Strand Releasing                       18\n",
       "STX Entertainment                      18\n",
       "Roadside Attractions                   18\n",
       "Name: distributor, dtype: int64"
      ]
     },
     "execution_count": 48,
     "metadata": {},
     "output_type": "execute_result"
    }
   ],
   "source": [
    "df['distributor'].value_counts().head(15)"
   ]
  },
  {
   "cell_type": "markdown",
   "metadata": {},
   "source": [
    "4 major distributors and 4 minor distributors are selected. \n",
    "\n",
    "'Walt Disney Studio', 'Warner Bros.', 'Sony Pictures', and 'Universal Pictures' are the movie distributors with market share greater than 10% respectively. \n",
    "\n",
    "The market share of 'Well Go USA Entertainment', 'The Orchard', and 'Strand Releasing' is below 0.1% respectively. 'IFC Films' is the company which distributes mainly independent films and its market share is around 0.2%."
   ]
  },
  {
   "cell_type": "code",
   "execution_count": 49,
   "metadata": {},
   "outputs": [],
   "source": [
    "df_dist = df[(df['distributor']=='Walt Disney Studios Motion Pictures')|(df['distributor']=='Warner Bros.')|(df['distributor']=='Sony Pictures')|(df['distributor']=='Universal Pictures')|(df['distributor']=='The Orchard')|(df['distributor']=='IFC Films')|(df['distributor']=='Well Go USA Entertainment')|(df['distributor']=='Strand Releasing')]"
   ]
  },
  {
   "cell_type": "code",
   "execution_count": 50,
   "metadata": {},
   "outputs": [
    {
     "data": {
      "image/png": "[encoded data removed]",
      "text/plain": [
       "<Figure size 1080x432 with 2 Axes>"
      ]
     },
     "metadata": {
      "needs_background": "light"
     },
     "output_type": "display_data"
    }
   ],
   "source": [
    "dist_order=['Walt Disney Studios Motion Pictures','Warner Bros.','Sony Pictures'\n",
    "           ,'Universal Pictures','Well Go USA Entertainment',\n",
    "           'The Orchard','Strand Releasing','IFC Films']\n",
    "\n",
    "f,ax=plt.subplots(2,1,figsize=(15,6))\n",
    "f.subplots_adjust(hspace=0)\n",
    "sns.catplot('distributor', 'promotion_days', kind='swarm', order=dist_order, data=df_dist, ax=ax[0])\n",
    "ax[0].set_xticklabels([])\n",
    "ax[0].set_xlabel('')\n",
    "ax[0].set_ylabel('Promotion Days')\n",
    "sns.catplot('distributor', 'promotion_days', kind=\"box\", order=dist_order, data=df, ax=ax[1])\n",
    "ax[1].set_xticklabels(ax[0].get_xticklabels(), rotation=45, fontsize='medium')\n",
    "ax[1].set_xlabel('')\n",
    "ax[1].set_ylabel('Promotion Days')\n",
    "\n",
    "plt.close(2)\n",
    "plt.close(3)"
   ]
  },
  {
   "cell_type": "markdown",
   "metadata": {},
   "source": [
    "The promotion period for the major distributors is likely to be greater than those for the minor distributors. \n",
    "\n",
    "This is because major distributors generally distribute movies with large budgets or movies that are highly anticipated by people even before the production. In order to attract more attention or interest, they are likely to have longer promotion periods for their movies."
   ]
  },
  {
   "cell_type": "markdown",
   "metadata": {},
   "source": [
    "## MPAA"
   ]
  },
  {
   "cell_type": "code",
   "execution_count": 51,
   "metadata": {},
   "outputs": [],
   "source": [
    "# Select the entries with non-missing values in MPAA\n",
    "df_MPAA = df[df['MPAA'].notnull()]"
   ]
  },
  {
   "cell_type": "code",
   "execution_count": 52,
   "metadata": {},
   "outputs": [
    {
     "data": {
      "text/html": [
       "<div>\n",
       "<style scoped>\n",
       "    .dataframe tbody tr th:only-of-type {\n",
       "        vertical-align: middle;\n",
       "    }\n",
       "\n",
       "    .dataframe tbody tr th {\n",
       "        vertical-align: top;\n",
       "    }\n",
       "\n",
       "    .dataframe thead th {\n",
       "        text-align: right;\n",
       "    }\n",
       "</style>\n",
       "<table border=\"1\" class=\"dataframe\">\n",
       "  <thead>\n",
       "    <tr style=\"text-align: right;\">\n",
       "      <th></th>\n",
       "      <th>Counts</th>\n",
       "    </tr>\n",
       "    <tr>\n",
       "      <th>MPAA</th>\n",
       "      <th></th>\n",
       "    </tr>\n",
       "  </thead>\n",
       "  <tbody>\n",
       "    <tr>\n",
       "      <td>R</td>\n",
       "      <td>323</td>\n",
       "    </tr>\n",
       "    <tr>\n",
       "      <td>PG-13</td>\n",
       "      <td>214</td>\n",
       "    </tr>\n",
       "    <tr>\n",
       "      <td>PG</td>\n",
       "      <td>92</td>\n",
       "    </tr>\n",
       "    <tr>\n",
       "      <td>Not Rated</td>\n",
       "      <td>7</td>\n",
       "    </tr>\n",
       "    <tr>\n",
       "      <td>G</td>\n",
       "      <td>5</td>\n",
       "    </tr>\n",
       "  </tbody>\n",
       "</table>\n",
       "</div>"
      ],
      "text/plain": [
       "           Counts\n",
       "MPAA             \n",
       "R             323\n",
       "PG-13         214\n",
       "PG             92\n",
       "Not Rated       7\n",
       "G               5"
      ]
     },
     "execution_count": 52,
     "metadata": {},
     "output_type": "execute_result"
    }
   ],
   "source": [
    "# show the counts for each rating\n",
    "mpaa_counts = df_MPAA['MPAA'].value_counts().to_frame()\n",
    "mpaa_counts.rename(columns={'MPAA':'Counts'}, inplace=True)\n",
    "mpaa_counts.index.name='MPAA'\n",
    "mpaa_counts"
   ]
  },
  {
   "cell_type": "markdown",
   "metadata": {},
   "source": [
    "Since the rating 'G' and 'Not Rated' have very small numbers, they are excluded in the analysis."
   ]
  },
  {
   "cell_type": "code",
   "execution_count": 53,
   "metadata": {
    "scrolled": true
   },
   "outputs": [
    {
     "data": {
      "image/png": "[encoded data removed]",
      "text/plain": [
       "<Figure size 1296x360 with 2 Axes>"
      ]
     },
     "metadata": {
      "needs_background": "light"
     },
     "output_type": "display_data"
    }
   ],
   "source": [
    "# Show how the distributions of the promotion_days for each rating group are different.\n",
    "f, ax = plt.subplots(1,2,figsize=(18,5))\n",
    "\n",
    "sns.catplot('MPAA', 'promotion_days', order=['PG', 'PG-13', 'R'], kind=\"swarm\", data=df_MPAA, ax=ax[0])\n",
    "ax[0].set_ylabel('Promotion Days', fontsize=15)\n",
    "sns.catplot('MPAA', 'promotion_days', order=['PG', 'PG-13', 'R'], kind=\"boxen\", data=df_MPAA, ax=ax[1])\n",
    "ax[1].set_ylabel('')\n",
    "\n",
    "plt.close(2)\n",
    "plt.close(3)"
   ]
  },
  {
   "cell_type": "markdown",
   "metadata": {},
   "source": [
    "The graphs above show that the distributions between 'PG' and 'PG-13' movies seem to not have any significant difference. However, comparing them with 'R' rated movies show that the distribution of 'R' rated movies seems to be slightly lower. \n",
    "\n",
    "To see if the difference is statistically significant, let's do the t-test and Kolmogorov-Smirnov(KS) test."
   ]
  },
  {
   "cell_type": "markdown",
   "metadata": {},
   "source": [
    "#### PG and PG-13"
   ]
  },
  {
   "cell_type": "code",
   "execution_count": 54,
   "metadata": {},
   "outputs": [
    {
     "name": "stdout",
     "output_type": "stream",
     "text": [
      "t-statistic: 1.0793963102461517 p-value: 0.2812667397489795\n",
      "KS-statistic: 0.10371800081267778 p-value: 0.45484841118492003\n"
     ]
    }
   ],
   "source": [
    "t_stat0,p_val0 = stats.ttest_ind(df_MPAA[df_MPAA['MPAA']=='PG']['promotion_days'],df_MPAA[df_MPAA['MPAA']=='PG-13']['promotion_days'])\n",
    "ks_stat0, p_val1=stats.ks_2samp(df_MPAA[df_MPAA['MPAA']=='PG']['promotion_days'],df_MPAA[df_MPAA['MPAA']=='PG-13']['promotion_days'])\n",
    "print(\"t-statistic:\", t_stat0, 'p-value:', p_val0)\n",
    "print(\"KS-statistic:\", ks_stat0, 'p-value:', p_val1)"
   ]
  },
  {
   "cell_type": "markdown",
   "metadata": {},
   "source": [
    "The t-statistic between PG and PG-13 movies to test the difference of means between two samples is not statistically significant even at 10% level. This means that we cannot reject the null hypothesis that the means of the two distributions are equal. \n",
    "\n",
    "KS-test is to measure the maximum distance between the two cumulative distributions to see if the two distributions are different. As KS-statistic is bigger, the difference between the two distributions gets larger. In the case above, the p-value for KS-statistics is 0.4548, which means that the difference is not significant at the 10% level."
   ]
  },
  {
   "cell_type": "markdown",
   "metadata": {},
   "source": [
    "#### PG-13 and R"
   ]
  },
  {
   "cell_type": "code",
   "execution_count": 55,
   "metadata": {},
   "outputs": [
    {
     "name": "stdout",
     "output_type": "stream",
     "text": [
      "t-statistic: 4.436509787136331 p-value: 1.1105313176936263e-05\n",
      "KS-statistic: 0.21399843754520992 p-value: 1.1780840307507034e-05\n"
     ]
    }
   ],
   "source": [
    "t_stat1,p_val2 =stats.ttest_ind(df_MPAA[df_MPAA['MPAA']=='PG-13']['promotion_days'], df_MPAA[df_MPAA['MPAA']=='R']['promotion_days'])\n",
    "ks_stat1, p_val3=stats.ks_2samp(df_MPAA[df_MPAA['MPAA']=='PG-13']['promotion_days'], df_MPAA[df_MPAA['MPAA']=='R']['promotion_days'])\n",
    "print(\"t-statistic:\", t_stat1, 'p-value:', p_val2)\n",
    "print(\"KS-statistic:\", ks_stat1, 'p-value:', p_val3)"
   ]
  },
  {
   "cell_type": "markdown",
   "metadata": {},
   "source": [
    "Both of t-statistic and KS-statistic are significant even at the 1% level, which means that the distribution of 'R' movies is statistically lower than the distribution of 'PG-13'."
   ]
  },
  {
   "cell_type": "markdown",
   "metadata": {},
   "source": [
    "## Genres"
   ]
  },
  {
   "cell_type": "code",
   "execution_count": 56,
   "metadata": {},
   "outputs": [
    {
     "data": {
      "text/plain": [
       "324"
      ]
     },
     "execution_count": 56,
     "metadata": {},
     "output_type": "execute_result"
    }
   ],
   "source": [
    "# number of unique values in genres\n",
    "len(df['genres'].unique())"
   ]
  },
  {
   "cell_type": "markdown",
   "metadata": {},
   "source": [
    "The genre for each movie is expressed as the combination of several base genres. The number of the unique values in genres is 324. \n",
    "\n",
    "Instead of using this raw values in genre, I created dummy features for each base genre. Here's the number of frequency for each base genre in our data set."
   ]
  },
  {
   "cell_type": "code",
   "execution_count": 57,
   "metadata": {},
   "outputs": [],
   "source": [
    "counts = dict()\n",
    "\n",
    "for i in df.index:\n",
    "    for bgenre in df.loc[i, 'genres'].split(','):\n",
    "        if bgenre not in counts:\n",
    "            counts[bgenre] = 1\n",
    "        else:\n",
    "            counts[bgenre] = counts[bgenre] + 1"
   ]
  },
  {
   "cell_type": "code",
   "execution_count": 58,
   "metadata": {},
   "outputs": [
    {
     "name": "stdout",
     "output_type": "stream",
     "text": [
      "{'Action': 185, 'Adventure': 148, 'Drama': 539, 'Sci-Fi': 93, 'Comedy': 250, 'Crime': 129, 'Mystery': 113, 'Thriller': 237, 'Fantasy': 108, 'Family': 82, 'Animation': 54, 'Horror': 107, 'Biography': 113, 'Romance': 138, 'Documentary': 127, 'War': 49, 'History': 60, 'Music': 42, 'Sport': 21, 'Western': 15, 'Musical': 18}\n"
     ]
    },
    {
     "data": {
      "image/png": "[encoded data removed]",
      "text/plain": [
       "<Figure size 864x432 with 1 Axes>"
      ]
     },
     "metadata": {
      "needs_background": "light"
     },
     "output_type": "display_data"
    }
   ],
   "source": [
    "plt.figure(figsize=(12,6))\n",
    "plt.bar(list(counts.keys()), counts.values(), color='g')\n",
    "plt.xticks(rotation=45)\n",
    "plt.xlabel('Movie Genres')\n",
    "plt.ylabel('Counts')\n",
    "print(counts)"
   ]
  },
  {
   "cell_type": "markdown",
   "metadata": {},
   "source": [
    "Let's create dummy features for those base genres. For each movie, if the genre includes 'Action' in its value, the movie has the value of 1 for Action dummy feature, and 0 if not. This is applies to the other genres as well. "
   ]
  },
  {
   "cell_type": "code",
   "execution_count": 59,
   "metadata": {},
   "outputs": [],
   "source": [
    "# Creating columns for each genre\n",
    "for genre in counts.keys():\n",
    "    df[genre] = None\n",
    "    for i in df.index:\n",
    "        if genre in df.loc[i, 'genres']:\n",
    "            df.loc[i, genre] = 1\n",
    "        else:\n",
    "            df.loc[i, genre] = 0"
   ]
  },
  {
   "cell_type": "code",
   "execution_count": 60,
   "metadata": {},
   "outputs": [
    {
     "data": {
      "text/plain": [
       "Index(['title', 'distributor', 'budget', 'MPAA', 'genres', 'release_date',\n",
       "       'trailer_date', 'promotion_days', 'Action', 'Adventure', 'Drama',\n",
       "       'Sci-Fi', 'Comedy', 'Crime', 'Mystery', 'Thriller', 'Fantasy', 'Family',\n",
       "       'Animation', 'Horror', 'Biography', 'Romance', 'Documentary', 'War',\n",
       "       'History', 'Music', 'Sport', 'Western', 'Musical'],\n",
       "      dtype='object')"
      ]
     },
     "execution_count": 60,
     "metadata": {},
     "output_type": "execute_result"
    }
   ],
   "source": [
    "df.columns"
   ]
  },
  {
   "cell_type": "code",
   "execution_count": 61,
   "metadata": {},
   "outputs": [
    {
     "data": {
      "text/html": [
       "<div>\n",
       "<style scoped>\n",
       "    .dataframe tbody tr th:only-of-type {\n",
       "        vertical-align: middle;\n",
       "    }\n",
       "\n",
       "    .dataframe tbody tr th {\n",
       "        vertical-align: top;\n",
       "    }\n",
       "\n",
       "    .dataframe thead th {\n",
       "        text-align: right;\n",
       "    }\n",
       "</style>\n",
       "<table border=\"1\" class=\"dataframe\">\n",
       "  <thead>\n",
       "    <tr style=\"text-align: right;\">\n",
       "      <th></th>\n",
       "      <th>t-statistic</th>\n",
       "      <th>p-value(t)</th>\n",
       "      <th>KS-statistic</th>\n",
       "      <th>p-value(KS)</th>\n",
       "    </tr>\n",
       "  </thead>\n",
       "  <tbody>\n",
       "    <tr>\n",
       "      <td>Drama</td>\n",
       "      <td>-2.24278</td>\n",
       "      <td>0.025142</td>\n",
       "      <td>0.103141</td>\n",
       "      <td>0.0130238</td>\n",
       "    </tr>\n",
       "    <tr>\n",
       "      <td>Sci-Fi</td>\n",
       "      <td>4.89513</td>\n",
       "      <td>1.15485e-06</td>\n",
       "      <td>0.317721</td>\n",
       "      <td>5.11747e-08</td>\n",
       "    </tr>\n",
       "    <tr>\n",
       "      <td>Comedy</td>\n",
       "      <td>-1.06864</td>\n",
       "      <td>0.285504</td>\n",
       "      <td>0.059122</td>\n",
       "      <td>0.517352</td>\n",
       "    </tr>\n",
       "    <tr>\n",
       "      <td>Crime</td>\n",
       "      <td>0.997226</td>\n",
       "      <td>0.31891</td>\n",
       "      <td>0.112545</td>\n",
       "      <td>0.109101</td>\n",
       "    </tr>\n",
       "    <tr>\n",
       "      <td>Mystery</td>\n",
       "      <td>-0.11623</td>\n",
       "      <td>0.907495</td>\n",
       "      <td>0.0856094</td>\n",
       "      <td>0.432608</td>\n",
       "    </tr>\n",
       "    <tr>\n",
       "      <td>Thriller</td>\n",
       "      <td>1.84407</td>\n",
       "      <td>0.0654853</td>\n",
       "      <td>0.139906</td>\n",
       "      <td>0.00171059</td>\n",
       "    </tr>\n",
       "    <tr>\n",
       "      <td>Fantasy</td>\n",
       "      <td>5.28914</td>\n",
       "      <td>1.52743e-07</td>\n",
       "      <td>0.288372</td>\n",
       "      <td>1.56575e-07</td>\n",
       "    </tr>\n",
       "    <tr>\n",
       "      <td>Family</td>\n",
       "      <td>4.88035</td>\n",
       "      <td>1.24252e-06</td>\n",
       "      <td>0.310264</td>\n",
       "      <td>6.76677e-07</td>\n",
       "    </tr>\n",
       "    <tr>\n",
       "      <td>Animation</td>\n",
       "      <td>3.78109</td>\n",
       "      <td>0.000165944</td>\n",
       "      <td>0.292128</td>\n",
       "      <td>0.000241496</td>\n",
       "    </tr>\n",
       "    <tr>\n",
       "      <td>Horror</td>\n",
       "      <td>0.546434</td>\n",
       "      <td>0.584897</td>\n",
       "      <td>0.126413</td>\n",
       "      <td>0.0874802</td>\n",
       "    </tr>\n",
       "    <tr>\n",
       "      <td>Biography</td>\n",
       "      <td>0.345469</td>\n",
       "      <td>0.729819</td>\n",
       "      <td>0.057172</td>\n",
       "      <td>0.880045</td>\n",
       "    </tr>\n",
       "    <tr>\n",
       "      <td>Romance</td>\n",
       "      <td>-0.30841</td>\n",
       "      <td>0.757838</td>\n",
       "      <td>0.061115</td>\n",
       "      <td>0.743809</td>\n",
       "    </tr>\n",
       "    <tr>\n",
       "      <td>Documentary</td>\n",
       "      <td>-1.55667</td>\n",
       "      <td>0.119885</td>\n",
       "      <td>0.225917</td>\n",
       "      <td>2.05513e-05</td>\n",
       "    </tr>\n",
       "    <tr>\n",
       "      <td>War</td>\n",
       "      <td>-1.48412</td>\n",
       "      <td>0.138109</td>\n",
       "      <td>0.121108</td>\n",
       "      <td>0.465627</td>\n",
       "    </tr>\n",
       "    <tr>\n",
       "      <td>History</td>\n",
       "      <td>-1.09423</td>\n",
       "      <td>0.274134</td>\n",
       "      <td>0.117212</td>\n",
       "      <td>0.390744</td>\n",
       "    </tr>\n",
       "    <tr>\n",
       "      <td>Music</td>\n",
       "      <td>1.03256</td>\n",
       "      <td>0.302073</td>\n",
       "      <td>0.0868663</td>\n",
       "      <td>0.77107</td>\n",
       "    </tr>\n",
       "    <tr>\n",
       "      <td>Sport</td>\n",
       "      <td>0.332379</td>\n",
       "      <td>0.739677</td>\n",
       "      <td>0.12131</td>\n",
       "      <td>0.887358</td>\n",
       "    </tr>\n",
       "    <tr>\n",
       "      <td>Western</td>\n",
       "      <td>-1.68128</td>\n",
       "      <td>0.0930381</td>\n",
       "      <td>0.291273</td>\n",
       "      <td>0.132571</td>\n",
       "    </tr>\n",
       "    <tr>\n",
       "      <td>Musical</td>\n",
       "      <td>2.75615</td>\n",
       "      <td>0.00596121</td>\n",
       "      <td>0.373699</td>\n",
       "      <td>0.0101007</td>\n",
       "    </tr>\n",
       "  </tbody>\n",
       "</table>\n",
       "</div>"
      ],
      "text/plain": [
       "            t-statistic   p-value(t) KS-statistic  p-value(KS)\n",
       "Drama          -2.24278     0.025142     0.103141    0.0130238\n",
       "Sci-Fi          4.89513  1.15485e-06     0.317721  5.11747e-08\n",
       "Comedy         -1.06864     0.285504     0.059122     0.517352\n",
       "Crime          0.997226      0.31891     0.112545     0.109101\n",
       "Mystery        -0.11623     0.907495    0.0856094     0.432608\n",
       "Thriller        1.84407    0.0654853     0.139906   0.00171059\n",
       "Fantasy         5.28914  1.52743e-07     0.288372  1.56575e-07\n",
       "Family          4.88035  1.24252e-06     0.310264  6.76677e-07\n",
       "Animation       3.78109  0.000165944     0.292128  0.000241496\n",
       "Horror         0.546434     0.584897     0.126413    0.0874802\n",
       "Biography      0.345469     0.729819     0.057172     0.880045\n",
       "Romance        -0.30841     0.757838     0.061115     0.743809\n",
       "Documentary    -1.55667     0.119885     0.225917  2.05513e-05\n",
       "War            -1.48412     0.138109     0.121108     0.465627\n",
       "History        -1.09423     0.274134     0.117212     0.390744\n",
       "Music           1.03256     0.302073    0.0868663      0.77107\n",
       "Sport          0.332379     0.739677      0.12131     0.887358\n",
       "Western        -1.68128    0.0930381     0.291273     0.132571\n",
       "Musical         2.75615   0.00596121     0.373699    0.0101007"
      ]
     },
     "execution_count": 61,
     "metadata": {},
     "output_type": "execute_result"
    }
   ],
   "source": [
    "# Show t-statistics and KS-statistics for each genre\n",
    "df_genres = pd.DataFrame(columns=['t-statistic','p-value(t)','KS-statistic','p-value(KS)'],index=df.columns[10:])\n",
    "for genre in df.columns[10:]:\n",
    "    t_stat,p_val0 = stats.ttest_ind(df[df[genre]==1]['promotion_days'],df[df[genre]==0]['promotion_days'])\n",
    "    ks_stat, p_val1 = stats.ks_2samp(df[df[genre]==1]['promotion_days'],df[df[genre]==0]['promotion_days'])\n",
    "    df_genres.loc[genre,'t-statistic'] = t_stat\n",
    "    df_genres.loc[genre,'p-value(t)'] = p_val0\n",
    "    df_genres.loc[genre,'KS-statistic'] = ks_stat\n",
    "    df_genres.loc[genre,'p-value(KS)'] = p_val1    \n",
    "    \n",
    "df_genres"
   ]
  },
  {
   "cell_type": "markdown",
   "metadata": {},
   "source": [
    "The t-statistics and KS-statistics for some genres are significant. \n",
    "\n",
    "Especially, the distributions of the promotion period for the movies with Action, Adventure, Sci-Fi, Fantasy, Family, or Animation are relatively long compared to other genres."
   ]
  }
 ],
 "metadata": {
  "kernelspec": {
   "display_name": "Python 3",
   "language": "python",
   "name": "python3"
  },
  "language_info": {
   "codemirror_mode": {
    "name": "ipython",
    "version": 3
   },
   "file_extension": ".py",
   "mimetype": "text/x-python",
   "name": "python",
   "nbconvert_exporter": "python",
   "pygments_lexer": "ipython3",
   "version": "3.7.4"
  }
 },
 "nbformat": 4,
 "nbformat_minor": 2
}
